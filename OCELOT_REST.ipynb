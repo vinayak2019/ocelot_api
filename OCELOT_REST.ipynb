{
  "nbformat": 4,
  "nbformat_minor": 0,
  "metadata": {
    "colab": {
      "provenance": [],
      "collapsed_sections": [],
      "authorship_tag": "ABX9TyP3IRWHU/EnXWvj8BGaS8QI",
      "include_colab_link": true
    },
    "kernelspec": {
      "name": "python3",
      "display_name": "Python 3"
    },
    "language_info": {
      "name": "python"
    }
  },
  "cells": [
    {
      "cell_type": "markdown",
      "metadata": {
        "id": "view-in-github",
        "colab_type": "text"
      },
      "source": [
        "<a href=\"https://colab.research.google.com/github/vinayak2019/ocelot_api/blob/master/OCELOT_REST.ipynb\" target=\"_parent\"><img src=\"https://colab.research.google.com/assets/colab-badge.svg\" alt=\"Open In Colab\"/></a>"
      ]
    },
    {
      "cell_type": "markdown",
      "source": [
        "The REST API is still in it's early stages. But this is the how you would get the data."
      ],
      "metadata": {
        "id": "z_Km3v4x9FLX"
      }
    },
    {
      "cell_type": "markdown",
      "source": [
        "### The OCELOT_REST class"
      ],
      "metadata": {
        "id": "SyHNTvyo9U3a"
      }
    },
    {
      "cell_type": "code",
      "execution_count": 1,
      "metadata": {
        "id": "mqx_lyzz3vQM"
      },
      "outputs": [],
      "source": [
        "import requests\n",
        "\n",
        "class OCELOT_REST(object):\n",
        "  def __init__(self, method=None, url=\"https://oscar.as.uky.edu\",\n",
        "                 login_endpoint='login', username=None, password=None):\n",
        "    self.url = url\n",
        "    self.login_endpoint = \"{}/{}/\".format(url, login_endpoint).replace(\"//\", \"/\").replace(':/', '://')\n",
        "    self.user_data = dict(username=username, password=password) if username and password else None\n",
        "    self.get_client()\n",
        "    self.params =dict(csrfmiddlewaretoken=self.user_data['csrfmiddlewaretoken'], next='/')\n",
        "\n",
        "  def get_client(self):\n",
        "    with requests.Session() as self.client:\n",
        "        # Login\n",
        "        self.client.get(self.login_endpoint)  # sets cookie\n",
        "        csrftoken = self.client.cookies['csrftoken'] if 'csrftoken' in self.client.cookies else self.client.cookies['csrf']\n",
        "        self.user_data.update(dict(csrfmiddlewaretoken=csrftoken, next='/'))\n",
        "        # Submit login form\n",
        "        req = self.client.post(self.login_endpoint, data=self.user_data, headers=dict(Referer=self.login_endpoint))\n",
        "\n",
        "  def get_data(self, endpoint=None):\n",
        "    endpoint = \"{}/{}/\".format(self.url, endpoint).replace(\"//\", \"/\").replace(':/', '://')\n",
        "    response = self.client.get(endpoint, data=self.params, headers=dict(Referer=endpoint), cookies=self.client.cookies)\n",
        "    return response.json()    \n"
      ]
    },
    {
      "cell_type": "markdown",
      "source": [
        "### Set username and password"
      ],
      "metadata": {
        "id": "ga63qUw59a6s"
      }
    },
    {
      "cell_type": "code",
      "source": [
        "USERNAME = \"\"\n",
        "PASSWORD = \"\""
      ],
      "metadata": {
        "id": "3AMKgbp86N7F"
      },
      "execution_count": 2,
      "outputs": []
    },
    {
      "cell_type": "markdown",
      "source": [
        "### Create the OCELOT_REST instance"
      ],
      "metadata": {
        "id": "Yj3GNjaW9eJ4"
      }
    },
    {
      "cell_type": "code",
      "source": [
        "ocelot_rest = OCELOT_REST(username=USERNAME,password=PASSWORD)"
      ],
      "metadata": {
        "id": "4rb_mie68kZY"
      },
      "execution_count": 3,
      "outputs": []
    },
    {
      "cell_type": "markdown",
      "source": [
        "### Get data from endpoint\n",
        "\n",
        "Here I use the descriptor mode mentioned in the [documentation](https://oscar-docs.as.uky.edu/restapi/). \n",
        "\n",
        "I am interested in getting the band gaps for crystals. The corresponding descriptor in OCLEOT database is **relaxed_bandgap**. I want to sort the values in descending order and get 200 entries. So, my endpoint is **api/v00/descriptor/relaxed_bandgap/descending/200**"
      ],
      "metadata": {
        "id": "1NO8oXps9kvY"
      }
    },
    {
      "cell_type": "code",
      "source": [
        "endpoint = \"api/v00/descriptor/relaxed_bandgap/descending/200\"\n",
        "ocelot_rest.get_data(endpoint=endpoint)"
      ],
      "metadata": {
        "colab": {
          "base_uri": "https://localhost:8080/"
        },
        "id": "cGiKjvCS6v84",
        "outputId": "242ff28d-eb5c-464d-f7b9-58945aeea618"
      },
      "execution_count": 5,
      "outputs": [
        {
          "output_type": "execute_result",
          "data": {
            "text/plain": [
              "[{'_id': 'csd_ALOWAZ', 'relaxed_bandgap': 0.005399999999999849},\n",
              " {'_id': 'csd_DIXTEN01', 'relaxed_bandgap': 0.02629999999999999},\n",
              " {'_id': 'csd_BEZSAA', 'relaxed_bandgap': 0.026899999999999924},\n",
              " {'_id': 'csd_CORONE01', 'relaxed_bandgap': 0.03189999999999937},\n",
              " {'_id': 'csd_FASFUB', 'relaxed_bandgap': 0.05210000000000026},\n",
              " {'_id': 'csd_INDANT', 'relaxed_bandgap': 0.06519999999999992},\n",
              " {'_id': 'csd_BRCYBP', 'relaxed_bandgap': 0.07230000000000003},\n",
              " {'_id': 'csd_INDIGO01', 'relaxed_bandgap': 0.1197999999999999},\n",
              " {'_id': 'csd_INDIGO', 'relaxed_bandgap': 0.13949999999999996},\n",
              " {'_id': 'csd_DBZCOR', 'relaxed_bandgap': 0.14749999999999996},\n",
              " {'_id': 'csd_EBUTUQ', 'relaxed_bandgap': 0.16389999999999993},\n",
              " {'_id': 'csd_DBRBIP', 'relaxed_bandgap': 0.17900000000000027},\n",
              " {'_id': 'csd_FLAVAN', 'relaxed_bandgap': 0.1878000000000002},\n",
              " {'_id': 'csd_DIYLII', 'relaxed_bandgap': 0.21230000000000004},\n",
              " {'_id': 'csd_EPYHAT', 'relaxed_bandgap': 0.2499},\n",
              " {'_id': 'csd_DIYLEE', 'relaxed_bandgap': 0.2712999999999999},\n",
              " {'_id': 'csd_ITAMAT', 'relaxed_bandgap': 0.31499999999999995},\n",
              " {'_id': 'csd_DIYLOO', 'relaxed_bandgap': 0.32989999999999997},\n",
              " {'_id': 'com_k03292', 'relaxed_bandgap': 0.3429},\n",
              " {'_id': 'csd_BEVPOJ', 'relaxed_bandgap': 0.3562},\n",
              " {'_id': 'csd_BOCGIM', 'relaxed_bandgap': 0.36460000000000004},\n",
              " {'_id': 'csd_BODKUA', 'relaxed_bandgap': 0.3656000000000006},\n",
              " {'_id': 'csd_COBCOL', 'relaxed_bandgap': 0.3697999999999997},\n",
              " {'_id': 'csd_CAGRIN', 'relaxed_bandgap': 0.37479999999999997},\n",
              " {'_id': 'com_x08072', 'relaxed_bandgap': 0.3907999999999999},\n",
              " {'_id': 'csd_DIYMAB', 'relaxed_bandgap': 0.39539999999999986},\n",
              " {'_id': 'com_k07075', 'relaxed_bandgap': 0.4197000000000001},\n",
              " {'_id': 'csd_DICPEK', 'relaxed_bandgap': 0.4266},\n",
              " {'_id': 'csd_KOJNOO', 'relaxed_bandgap': 0.4272999999999999},\n",
              " {'_id': 'com_x08015', 'relaxed_bandgap': 0.42969999999999997},\n",
              " {'_id': 'csd_EDEMAD', 'relaxed_bandgap': 0.43100000000000005},\n",
              " {'_id': 'csd_JARGAL', 'relaxed_bandgap': 0.4381999999999999},\n",
              " {'_id': 'csd_DICPEK01', 'relaxed_bandgap': 0.4477000000000001},\n",
              " {'_id': 'com_k01029', 'relaxed_bandgap': 0.4504},\n",
              " {'_id': 'com_x17059', 'relaxed_bandgap': 0.46930000000000005},\n",
              " {'_id': 'com_k13167u', 'relaxed_bandgap': 0.47040000000000004},\n",
              " {'_id': 'com_x06077', 'relaxed_bandgap': 0.4727},\n",
              " {'_id': 'com_k02202', 'relaxed_bandgap': 0.4727999999999999},\n",
              " {'_id': 'csd_CADMOK01', 'relaxed_bandgap': 0.4798999999999999},\n",
              " {'_id': 'csd_BOSBIW', 'relaxed_bandgap': 0.48509999999999986},\n",
              " {'_id': 'com_k04075t', 'relaxed_bandgap': 0.4859000000000001},\n",
              " {'_id': 'com_cu_mh144_0m', 'relaxed_bandgap': 0.48889999999999995},\n",
              " {'_id': 'csd_KIBVEY', 'relaxed_bandgap': 0.4937},\n",
              " {'_id': 'com_x07086', 'relaxed_bandgap': 0.49750000000000005},\n",
              " {'_id': 'com_k08046', 'relaxed_bandgap': 0.4982000000000001},\n",
              " {'_id': 'com_x15385', 'relaxed_bandgap': 0.5022},\n",
              " {'_id': 'com_x10018', 'relaxed_bandgap': 0.5076999999999998},\n",
              " {'_id': 'com_x10004', 'relaxed_bandgap': 0.521},\n",
              " {'_id': 'com_x10008', 'relaxed_bandgap': 0.5231000000000001},\n",
              " {'_id': 'com_k01066', 'relaxed_bandgap': 0.5298999999999999},\n",
              " {'_id': 'csd_CADMUQ', 'relaxed_bandgap': 0.53},\n",
              " {'_id': 'csd_DIWTAG', 'relaxed_bandgap': 0.531},\n",
              " {'_id': 'com_k13158u', 'relaxed_bandgap': 0.5314000000000001},\n",
              " {'_id': 'com_k03110', 'relaxed_bandgap': 0.5317000000000001},\n",
              " {'_id': 'csd_CEHBAS', 'relaxed_bandgap': 0.5319999999999999},\n",
              " {'_id': 'com_k03017', 'relaxed_bandgap': 0.5336},\n",
              " {'_id': 'csd_DHXANT', 'relaxed_bandgap': 0.5408},\n",
              " {'_id': 'csd_JANWUT', 'relaxed_bandgap': 0.5427},\n",
              " {'_id': 'com_k06076', 'relaxed_bandgap': 0.5488999999999999},\n",
              " {'_id': 'com_x10142', 'relaxed_bandgap': 0.5548000000000001},\n",
              " {'_id': 'csd_BUZZIH', 'relaxed_bandgap': 0.5569999999999999},\n",
              " {'_id': 'com_k08070s', 'relaxed_bandgap': 0.5666},\n",
              " {'_id': 'csd_INDRUB', 'relaxed_bandgap': 0.5670999999999999},\n",
              " {'_id': 'com_mo_mh125_0m_a', 'relaxed_bandgap': 0.5747},\n",
              " {'_id': 'com_k13077u', 'relaxed_bandgap': 0.5753},\n",
              " {'_id': 'csd_KIDZEE', 'relaxed_bandgap': 0.5766},\n",
              " {'_id': 'csd_BEVPEZ', 'relaxed_bandgap': 0.5775999999999999},\n",
              " {'_id': 'csd_DEXBUG', 'relaxed_bandgap': 0.5791000000000001},\n",
              " {'_id': 'com_k01074', 'relaxed_bandgap': 0.5877},\n",
              " {'_id': 'csd_CIZCIY', 'relaxed_bandgap': 0.5881},\n",
              " {'_id': 'com_x09191', 'relaxed_bandgap': 0.5898000000000001},\n",
              " {'_id': 'csd_BZOQUX10', 'relaxed_bandgap': 0.6014999999999997},\n",
              " {'_id': 'csd_KODTIG01', 'relaxed_bandgap': 0.6119999999999999},\n",
              " {'_id': 'csd_KODTIG', 'relaxed_bandgap': 0.6134},\n",
              " {'_id': 'com_x13357', 'relaxed_bandgap': 0.6141000000000001},\n",
              " {'_id': 'csd_JAZQOT', 'relaxed_bandgap': 0.6149},\n",
              " {'_id': 'csd_KUHWIT', 'relaxed_bandgap': 0.6252},\n",
              " {'_id': 'com_cu_mh172_0m', 'relaxed_bandgap': 0.6326},\n",
              " {'_id': 'csd_AQOSIJ', 'relaxed_bandgap': 0.638},\n",
              " {'_id': 'com_mo_mh112_0m', 'relaxed_bandgap': 0.6387000000000003},\n",
              " {'_id': 'com_k01071', 'relaxed_bandgap': 0.641},\n",
              " {'_id': 'csd_FATNOG', 'relaxed_bandgap': 0.6436999999999999},\n",
              " {'_id': 'com_x08135', 'relaxed_bandgap': 0.6506000000000001},\n",
              " {'_id': 'csd_HONJIF', 'relaxed_bandgap': 0.6509},\n",
              " {'_id': 'csd_IDUTOT01', 'relaxed_bandgap': 0.6532},\n",
              " {'_id': 'com_x13441', 'relaxed_bandgap': 0.6607},\n",
              " {'_id': 'csd_DBRANO', 'relaxed_bandgap': 0.6641999999999997},\n",
              " {'_id': 'csd_BESSOJ01', 'relaxed_bandgap': 0.6700999999999999},\n",
              " {'_id': 'csd_BESSID', 'relaxed_bandgap': 0.6730999999999998},\n",
              " {'_id': 'csd_DIYWAL', 'relaxed_bandgap': 0.6785},\n",
              " {'_id': 'csd_DAWXOO', 'relaxed_bandgap': 0.6792},\n",
              " {'_id': 'com_mo_mh126_0m_a', 'relaxed_bandgap': 0.6834},\n",
              " {'_id': 'com_mh81a', 'relaxed_bandgap': 0.6880000000000001},\n",
              " {'_id': 'csd_FOMVIP', 'relaxed_bandgap': 0.6902},\n",
              " {'_id': 'csd_GAMNOY', 'relaxed_bandgap': 0.6918},\n",
              " {'_id': 'com_mh66', 'relaxed_bandgap': 0.6940999999999999},\n",
              " {'_id': 'com_cu_mh107_0m', 'relaxed_bandgap': 0.6946000000000001},\n",
              " {'_id': 'csd_KIJSIG', 'relaxed_bandgap': 0.6953000000000001},\n",
              " {'_id': 'csd_AQOSEF', 'relaxed_bandgap': 0.7050999999999998},\n",
              " {'_id': 'com_mh101', 'relaxed_bandgap': 0.7052999999999999},\n",
              " {'_id': 'csd_JACTAJ', 'relaxed_bandgap': 0.7141000000000001},\n",
              " {'_id': 'csd_BZPYRB', 'relaxed_bandgap': 0.7171000000000001},\n",
              " {'_id': 'csd_CIHYEA', 'relaxed_bandgap': 0.7275},\n",
              " {'_id': 'csd_HOVLAF', 'relaxed_bandgap': 0.7278},\n",
              " {'_id': 'csd_AKUSIK', 'relaxed_bandgap': 0.7288000000000001},\n",
              " {'_id': 'csd_CLPNOX', 'relaxed_bandgap': 0.729},\n",
              " {'_id': 'csd_IZUJAQ', 'relaxed_bandgap': 0.7299},\n",
              " {'_id': 'csd_FINBUB', 'relaxed_bandgap': 0.7326999999999999},\n",
              " {'_id': 'csd_FEGYEY', 'relaxed_bandgap': 0.7338},\n",
              " {'_id': 'csd_DOJHES', 'relaxed_bandgap': 0.7349999999999999},\n",
              " {'_id': 'csd_AYUKIP', 'relaxed_bandgap': 0.7381},\n",
              " {'_id': 'csd_FECZOE', 'relaxed_bandgap': 0.7383},\n",
              " {'_id': 'com_mhr60', 'relaxed_bandgap': 0.7401},\n",
              " {'_id': 'csd_BATQOE', 'relaxed_bandgap': 0.7411000000000001},\n",
              " {'_id': 'com_mh74', 'relaxed_bandgap': 0.7412},\n",
              " {'_id': 'com_x17061', 'relaxed_bandgap': 0.7445000000000002},\n",
              " {'_id': 'csd_KALCEH', 'relaxed_bandgap': 0.7472},\n",
              " {'_id': 'csd_CIHXUP', 'relaxed_bandgap': 0.7500000000000001},\n",
              " {'_id': 'csd_CURCID', 'relaxed_bandgap': 0.7546999999999999},\n",
              " {'_id': 'com_cu_mhr157_0m', 'relaxed_bandgap': 0.7576},\n",
              " {'_id': 'csd_ECASUY', 'relaxed_bandgap': 0.7607999999999999},\n",
              " {'_id': 'csd_BUTREO', 'relaxed_bandgap': 0.7628999999999997},\n",
              " {'_id': 'csd_HIGSIA', 'relaxed_bandgap': 0.7635000000000001},\n",
              " {'_id': 'csd_ITEZOY', 'relaxed_bandgap': 0.7696},\n",
              " {'_id': 'com_k03129', 'relaxed_bandgap': 0.7696000000000001},\n",
              " {'_id': 'com_k13166u', 'relaxed_bandgap': 0.7737},\n",
              " {'_id': 'csd_ITUXAX', 'relaxed_bandgap': 0.7742},\n",
              " {'_id': 'com_cu_mhrr148_0m', 'relaxed_bandgap': 0.7757999999999999},\n",
              " {'_id': 'csd_CIZCOE', 'relaxed_bandgap': 0.7785},\n",
              " {'_id': 'com_k03140', 'relaxed_bandgap': 0.7787},\n",
              " {'_id': 'csd_HUFVOT', 'relaxed_bandgap': 0.7802},\n",
              " {'_id': 'csd_DIFYAT', 'relaxed_bandgap': 0.7813999999999999},\n",
              " {'_id': 'com_x09103', 'relaxed_bandgap': 0.7926},\n",
              " {'_id': 'com_k04226', 'relaxed_bandgap': 0.7928999999999999},\n",
              " {'_id': 'com_k03277', 'relaxed_bandgap': 0.7957000000000001},\n",
              " {'_id': 'csd_IVIFAW', 'relaxed_bandgap': 0.7977},\n",
              " {'_id': 'csd_GODQUN', 'relaxed_bandgap': 0.8064},\n",
              " {'_id': 'com_k03171', 'relaxed_bandgap': 0.8111000000000002},\n",
              " {'_id': 'com_x08183', 'relaxed_bandgap': 0.8146000000000001},\n",
              " {'_id': 'csd_DIHNIS', 'relaxed_bandgap': 0.8172},\n",
              " {'_id': 'csd_BUPPUZ', 'relaxed_bandgap': 0.8208},\n",
              " {'_id': 'csd_DORNOP', 'relaxed_bandgap': 0.821},\n",
              " {'_id': 'csd_DUFZEK', 'relaxed_bandgap': 0.8222},\n",
              " {'_id': 'com_mo_mhr124_0m', 'relaxed_bandgap': 0.8233999999999999},\n",
              " {'_id': 'csd_FUMMAD', 'relaxed_bandgap': 0.8246},\n",
              " {'_id': 'csd_BIVWEL', 'relaxed_bandgap': 0.8259000000000001},\n",
              " {'_id': 'csd_DCLANT', 'relaxed_bandgap': 0.8264999999999998},\n",
              " {'_id': 'csd_IBOSIC', 'relaxed_bandgap': 0.8273},\n",
              " {'_id': 'com_mo_mh114_0m', 'relaxed_bandgap': 0.8295000000000001},\n",
              " {'_id': 'csd_FAQFEJ', 'relaxed_bandgap': 0.8302999999999999},\n",
              " {'_id': 'com_x07117x', 'relaxed_bandgap': 0.8315},\n",
              " {'_id': 'csd_DUZVOK', 'relaxed_bandgap': 0.8332999999999999},\n",
              " {'_id': 'csd_DAPBAY', 'relaxed_bandgap': 0.8344},\n",
              " {'_id': 'csd_ECAYUF', 'relaxed_bandgap': 0.8376},\n",
              " {'_id': 'com_mo_mh155_0m_a', 'relaxed_bandgap': 0.8381999999999998},\n",
              " {'_id': 'com_x08153', 'relaxed_bandgap': 0.8412999999999999},\n",
              " {'_id': 'csd_FECZOE01', 'relaxed_bandgap': 0.8445},\n",
              " {'_id': 'csd_CIHYAW', 'relaxed_bandgap': 0.8453999999999999},\n",
              " {'_id': 'csd_FIJWIE', 'relaxed_bandgap': 0.8459000000000001},\n",
              " {'_id': 'csd_CALZEX', 'relaxed_bandgap': 0.8473999999999999},\n",
              " {'_id': 'csd_GAMMUD', 'relaxed_bandgap': 0.8485999999999998},\n",
              " {'_id': 'csd_ILOCUH', 'relaxed_bandgap': 0.8487},\n",
              " {'_id': 'csd_IPAFEK', 'relaxed_bandgap': 0.8512000000000001},\n",
              " {'_id': 'csd_DOKXAE', 'relaxed_bandgap': 0.8518999999999999},\n",
              " {'_id': 'csd_IJAZOK', 'relaxed_bandgap': 0.8538},\n",
              " {'_id': 'com_k08215x', 'relaxed_bandgap': 0.8549},\n",
              " {'_id': 'csd_HINXUA', 'relaxed_bandgap': 0.8551000000000002},\n",
              " {'_id': 'csd_DICMOR', 'relaxed_bandgap': 0.8558},\n",
              " {'_id': 'com_cu_mh159_0m', 'relaxed_bandgap': 0.8568},\n",
              " {'_id': 'csd_GERKET', 'relaxed_bandgap': 0.8579999999999999},\n",
              " {'_id': 'csd_BOQTIN', 'relaxed_bandgap': 0.8582},\n",
              " {'_id': 'com_k05142', 'relaxed_bandgap': 0.8589},\n",
              " {'_id': 'csd_EPANEQ01', 'relaxed_bandgap': 0.859},\n",
              " {'_id': 'csd_ILOLOL', 'relaxed_bandgap': 0.8636000000000001},\n",
              " {'_id': 'csd_EPANEQ', 'relaxed_bandgap': 0.8638000000000001},\n",
              " {'_id': 'csd_EGIQUJ', 'relaxed_bandgap': 0.8661},\n",
              " {'_id': 'csd_DANZEY', 'relaxed_bandgap': 0.8678},\n",
              " {'_id': 'csd_CEQWON', 'relaxed_bandgap': 0.8680000000000001},\n",
              " {'_id': 'csd_CIHYIE', 'relaxed_bandgap': 0.8703000000000001},\n",
              " {'_id': 'csd_GEGQUF', 'relaxed_bandgap': 0.8707},\n",
              " {'_id': 'csd_BDNDSN01', 'relaxed_bandgap': 0.8708000000000002},\n",
              " {'_id': 'csd_BOSBES', 'relaxed_bandgap': 0.8722999999999999},\n",
              " {'_id': 'csd_GUSFIL', 'relaxed_bandgap': 0.8739},\n",
              " {'_id': 'csd_HAHGIJ', 'relaxed_bandgap': 0.8760000000000001},\n",
              " {'_id': 'com_mh129_a', 'relaxed_bandgap': 0.8767000000000001},\n",
              " {'_id': 'csd_JAJXAW', 'relaxed_bandgap': 0.8768999999999999},\n",
              " {'_id': 'csd_IJEFIO', 'relaxed_bandgap': 0.8778},\n",
              " {'_id': 'csd_DIXQAD', 'relaxed_bandgap': 0.8779},\n",
              " {'_id': 'csd_KOXJIS', 'relaxed_bandgap': 0.8783000000000001},\n",
              " {'_id': 'csd_EDINAI', 'relaxed_bandgap': 0.8847999999999999},\n",
              " {'_id': 'csd_IQITEI', 'relaxed_bandgap': 0.8857999999999999},\n",
              " {'_id': 'csd_EGOPIB', 'relaxed_bandgap': 0.8879999999999999},\n",
              " {'_id': 'csd_ABAVIL', 'relaxed_bandgap': 0.8899000000000001},\n",
              " {'_id': 'com_x10196', 'relaxed_bandgap': 0.893},\n",
              " {'_id': 'csd_AZPACN', 'relaxed_bandgap': 0.8940000000000001},\n",
              " {'_id': 'csd_DESFAL', 'relaxed_bandgap': 0.8954000000000002},\n",
              " {'_id': 'com_k08037', 'relaxed_bandgap': 0.8957},\n",
              " {'_id': 'csd_BERKEO', 'relaxed_bandgap': 0.8978999999999999},\n",
              " {'_id': 'csd_AQEJIQ', 'relaxed_bandgap': 0.8981999999999999},\n",
              " {'_id': 'csd_DICLEG', 'relaxed_bandgap': 0.9001999999999999}]"
            ]
          },
          "metadata": {},
          "execution_count": 5
        }
      ]
    }
  ]
}